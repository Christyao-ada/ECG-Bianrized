{
 "cells": [
  {
   "cell_type": "code",
   "execution_count": null,
   "metadata": {},
   "outputs": [],
   "source": [
    "import torch\n",
    "import torch.nn as nn\n",
    "\n",
    "from utils.DataLoader import Loader\n",
    "from models.AdiaECGNet import BiNet\n",
    "from utils.OpeModel import OpeModel\n",
    "\n",
    "import matplotlib.pyplot as plt\n",
    "from torchsummary import summary"
   ]
  },
  {
   "cell_type": "code",
   "execution_count": null,
   "metadata": {},
   "outputs": [],
   "source": [
    "model = BiNet(classCount=5)\n",
    "loader = Loader(classCount=5)\n",
    "\n",
    "classes, train_loader, test_loader = loader.loader()\n",
    "device = torch.device(\"cuda\" if torch.cuda.is_available() else \"cpu\")"
   ]
  },
  {
   "cell_type": "code",
   "execution_count": null,
   "metadata": {},
   "outputs": [],
   "source": [
    "opemodel = OpeModel(model, device, lr=0.0004, trLoader=train_loader, teLoader=test_loader)\n",
    "opemodel.train_strategy_a(0.35, 20)\n",
    "opemodel.train_strategy_a(0.3, 20)\n",
    "opemodel.train_strategy_a(0.25, 20)\n",
    "opemodel.train_strategy_a(0.2, 20)\n",
    "opemodel.train_strategy_a(0.15, 20)\n",
    "opemodel.train_strategy_a(0.1, 20)\n",
    "opemodel.train_strategy_a(0.05, 20)\n",
    "opemodel.train_strategy_a(0.01, 20)\n",
    "opemodel.train_strategy_a(0.0001, 20)\n",
    "opemodel.train_strategy_a(0.000001, 20)\n",
    "# _, acc, loss = opemodel.get_state()"
   ]
  },
  {
   "cell_type": "code",
   "execution_count": null,
   "metadata": {},
   "outputs": [],
   "source": [
    "opemodel.save_state('wbin', 200, cnt=5)"
   ]
  }
 ],
 "metadata": {
  "interpreter": {
   "hash": "6f285020f8f5854762e6b0ffaf2f278742197f0f0ba066e81cd9123fd82c3c00"
  },
  "kernelspec": {
   "display_name": "Python 3.9.7 ('DeepLearning')",
   "language": "python",
   "name": "python3"
  },
  "language_info": {
   "codemirror_mode": {
    "name": "ipython",
    "version": 3
   },
   "file_extension": ".py",
   "mimetype": "text/x-python",
   "name": "python",
   "nbconvert_exporter": "python",
   "pygments_lexer": "ipython3",
   "version": "3.9.7"
  },
  "orig_nbformat": 4
 },
 "nbformat": 4,
 "nbformat_minor": 2
}
