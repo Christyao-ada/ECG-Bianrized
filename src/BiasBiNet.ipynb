{
 "cells": [
  {
   "cell_type": "code",
   "execution_count": null,
   "metadata": {},
   "outputs": [],
   "source": [
    "import torch\n",
    "import torch.nn as nn\n",
    "\n",
    "from models.BiasBiNet import BiNet\n",
    "from utils.DataLoader import Loader\n",
    "from utils.OpeModel import OpeModel\n",
    "from utils.Draw import plot_cfm\n",
    "from utils.Draw import plot_loss_acc"
   ]
  },
  {
   "cell_type": "code",
   "execution_count": null,
   "metadata": {},
   "outputs": [],
   "source": [
    "model = BiNet(classCount=5)\n",
    "loader = Loader(classCount=5)\n",
    "\n",
    "classes, train_loader, test_loader = loader.loader()\n",
    "device = torch.device(\"cuda\" if torch.cuda.is_available() else \"cpu\")\n",
    "opemodel = OpeModel(model, device, lr=0.001, trLoader=train_loader, teLoader=test_loader)"
   ]
  },
  {
   "cell_type": "code",
   "execution_count": null,
   "metadata": {},
   "outputs": [],
   "source": [
    "opemodel.train_strategy_c(300)"
   ]
  },
  {
   "cell_type": "code",
   "execution_count": null,
   "metadata": {},
   "outputs": [],
   "source": [
    "opemodel.modify_lr(0.0001)\n",
    "opemodel.train_strategy_c(50)\n",
    "opemodel.modify_lr(0.00001)\n",
    "opemodel.train_strategy_c(50)\n",
    "opemodel.modify_lr(0.000001)\n",
    "opemodel.train_strategy_c(50)"
   ]
  },
  {
   "cell_type": "code",
   "execution_count": null,
   "metadata": {},
   "outputs": [],
   "source": [
    "model, acc, loss = opemodel.get_state()\n",
    "plot_loss_acc(acc, loss, 'fbin-p-b', 450, 5)\n",
    "plot_cfm(model, test_loader, classes, 'fbin-p-b', 450, 5)\n",
    "opemodel.save_state('fbin-p-b', 450)"
   ]
  }
 ],
 "metadata": {
  "interpreter": {
   "hash": "e8f640675e6b3a394c274180f4496f01c8b5ef0148ca2ba8edced6c747686770"
  },
  "kernelspec": {
   "display_name": "Python 3.9.7 64-bit ('DeepLearning')",
   "language": "python",
   "name": "python3"
  },
  "language_info": {
   "codemirror_mode": {
    "name": "ipython",
    "version": 3
   },
   "file_extension": ".py",
   "mimetype": "text/x-python",
   "name": "python",
   "nbconvert_exporter": "python",
   "pygments_lexer": "ipython3",
   "version": "3.9.7"
  },
  "orig_nbformat": 4
 },
 "nbformat": 4,
 "nbformat_minor": 2
}
