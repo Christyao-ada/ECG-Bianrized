{
 "cells": [
  {
   "cell_type": "code",
   "execution_count": 1,
   "metadata": {},
   "outputs": [],
   "source": [
    "import torch\n",
    "import torch.nn as nn\n",
    "\n",
    "from utils.DataLoader import Loader\n",
    "from models.ECGNet import BaselineNet\n",
    "# from utils.OpeModel import OpeModel\n",
    "# from utils.Draw import plot_loss_acc\n",
    "# from utils.Draw import plot_cfm\n",
    "# from utils.Draw import Landscape\n",
    "\n",
    "# from torchsummary import summary"
   ]
  },
  {
   "cell_type": "code",
   "execution_count": null,
   "metadata": {},
   "outputs": [],
   "source": [
    "# MQBench Deployed\n",
    "\n",
    "from mqbench.prepare_by_platform import prepare_by_platform\n",
    "from mqbench.prepare_by_platform import BackendType\n",
    "from mqbench.utils.state import enable_calibration\n",
    "from mqbench.utils.state import enable_quantization\n",
    "from mqbench.convert_deploy import convert_deploy"
   ]
  },
  {
   "cell_type": "code",
   "execution_count": 2,
   "metadata": {},
   "outputs": [],
   "source": [
    "model = BaselineNet(classCount=5)\n",
    "# loader = Loader(classCount=5)\n",
    "# print(model.state_dict())\n",
    "\n",
    "# classes, train_loader, test_loader = loader.loader()\n",
    "# device = torch.device(\"cuda\" if torch.cuda.is_available() else \"cpu\")\n",
    "# opemodel = OpeModel(model, device, lr=0.0004, trLoader=train_loader, teLoader=test_loader)"
   ]
  },
  {
   "cell_type": "code",
   "execution_count": null,
   "metadata": {},
   "outputs": [],
   "source": [
    "# MQBench Deployed\n",
    "\n",
    "model.eval()\n"
   ]
  },
  {
   "cell_type": "code",
   "execution_count": null,
   "metadata": {},
   "outputs": [],
   "source": [
    "print(model.module.state_dict())"
   ]
  },
  {
   "cell_type": "code",
   "execution_count": null,
   "metadata": {},
   "outputs": [],
   "source": [
    "opemodel.load_state('full', 96.45, 100, 5)"
   ]
  },
  {
   "cell_type": "code",
   "execution_count": null,
   "metadata": {},
   "outputs": [],
   "source": [
    "# opemodel.train_strategy_c(100)\n",
    "\n",
    "model, acc, loss = opemodel.get_state()\n",
    "# opemodel.load_state('full', 96.45, 100, 5)\n",
    "plot_cfm(model, test_loader, classes, 'full', 100, 5)\n"
   ]
  },
  {
   "cell_type": "code",
   "execution_count": null,
   "metadata": {},
   "outputs": [],
   "source": [
    "opemodel.save_state('full', 100, cnt=5)"
   ]
  }
 ],
 "metadata": {
  "kernelspec": {
   "display_name": "MQBench",
   "language": "python",
   "name": "python3"
  },
  "language_info": {
   "codemirror_mode": {
    "name": "ipython",
    "version": 3
   },
   "file_extension": ".py",
   "mimetype": "text/x-python",
   "name": "python",
   "nbconvert_exporter": "python",
   "pygments_lexer": "ipython3",
   "version": "3.9.0"
  },
  "orig_nbformat": 4,
  "vscode": {
   "interpreter": {
    "hash": "c2ef6a1ca273561ed952c0413ea0865157af66a1a157c8214cede21083c5918e"
   }
  }
 },
 "nbformat": 4,
 "nbformat_minor": 2
}
